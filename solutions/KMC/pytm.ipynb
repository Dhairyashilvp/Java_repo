{
 "nbformat": 4,
 "nbformat_minor": 2,
 "metadata": {
  "language_info": {
   "name": "python",
   "codemirror_mode": {
    "name": "ipython",
    "version": 3
   },
   "version": "3.7.4-final"
  },
  "orig_nbformat": 2,
  "file_extension": ".py",
  "mimetype": "text/x-python",
  "name": "python",
  "npconvert_exporter": "python",
  "pygments_lexer": "ipython3",
  "version": 3,
  "kernelspec": {
   "name": "python37464bit3418083905e742398ab8fae178929940",
   "display_name": "Python 3.7.4 64-bit"
  }
 },
 "cells": [
  {
   "cell_type": "code",
   "execution_count": 1,
   "metadata": {},
   "outputs": [
    {
     "output_type": "stream",
     "name": "stdout",
     "text": "Requirement already satisfied: bs4 in c:\\program files\\python37\\lib\\site-packages (0.0.1)\nRequirement already satisfied: beautifulsoup4 in c:\\program files\\python37\\lib\\site-packages (from bs4) (4.9.0)\nRequirement already satisfied: soupsieve>1.2 in c:\\program files\\python37\\lib\\site-packages (from beautifulsoup4->bs4) (2.0)\n"
    }
   ],
   "source": [
    "!pip install bs4"
   ]
  },
  {
   "cell_type": "code",
   "execution_count": 2,
   "metadata": {},
   "outputs": [],
   "source": [
    "import bs4 as bs\n",
    "import urllib.request"
   ]
  },
  {
   "cell_type": "code",
   "execution_count": 6,
   "metadata": {},
   "outputs": [],
   "source": [
    "source = urllib.request.urlopen('http://kolhapurcorporation.gov.in:8080/KMCWEB/PT/ViewAssessee.aspx?flag=st&div=25&ward=5&dname=E25').read()\n",
    "soup = bs.BeautifulSoup(source,'lxml')"
   ]
  },
  {
   "cell_type": "code",
   "execution_count": null,
   "metadata": {},
   "outputs": [],
   "source": [
    "table = soup.find('table', attrs={'id' : 'ctl00_ContentPlaceHolder1_gvst'})\n",
    "res = []\n",
    "table_rows = table.find_all('tr')\n",
    "for tr in table_rows:\n",
    "  td = tr.find_all('td')\n",
    "  row = [tr.text for tr in td if tr.text]\n",
    "  if row:\n",
    "    print(row)\n",
    "    res.append(row)"
   ]
  }
 ]
}